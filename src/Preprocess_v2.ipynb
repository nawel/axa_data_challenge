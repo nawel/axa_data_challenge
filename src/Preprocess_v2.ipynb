{
 "cells": [
  {
   "cell_type": "code",
   "execution_count": 1,
   "metadata": {
    "collapsed": false
   },
   "outputs": [
    {
     "name": "stdout",
     "output_type": "stream",
     "text": [
      "This non-commercial license of GraphLab Create for academic use is assigned to fella.belkham@u-psud.fr and will expire on December 27, 2017.\n"
     ]
    },
    {
     "name": "stderr",
     "output_type": "stream",
     "text": [
      "[INFO] graphlab.cython.cy_server: GraphLab Create v2.1 started. Logging: /tmp/graphlab_server_1483471899.log\n"
     ]
    }
   ],
   "source": [
    "import graphlab as gl\n",
    "import graphlab.aggregate as agg\n",
    "from graphlab.toolkits.feature_engineering import NumericImputer\n",
    "import numpy as np\n",
    "from sklearn.decomposition import PCA\n",
    "import pickle\n",
    "import pandas as pd\n",
    "import os\n",
    "import datetime as dt"
   ]
  },
  {
   "cell_type": "code",
   "execution_count": null,
   "metadata": {
    "collapsed": true
   },
   "outputs": [],
   "source": [
    "print ('Loading the training set ..')\n",
    "\n",
    "columns =  ['DATE','WEEK_END', 'DAY_WE_DS', 'TPER_TEAM',\n",
    "            'ASS_ASSIGNMENT', 'ASS_PARTNER', 'ASS_POLE',\n",
    "            'CSPL_ABNCALLS','CSPL_MAXINQUEUE', 'CSPL_ACCEPTABLE', 'CSPL_I_ACDTIME',\n",
    "            'CSPL_ABANDONNED_CALLS', 'CSPL_CALLS', 'CSPL_RECEIVED_CALLS'\n",
    "           ]\n",
    "url = 'train_2011_2012_2013.csv'\n",
    "callsData = gl.SFrame.read_csv(url, delimiter=';', header=True, usecols= columns)"
   ]
  },
  {
   "cell_type": "code",
   "execution_count": null,
   "metadata": {
    "collapsed": true
   },
   "outputs": [],
   "source": [
    "print \"Loading test set\"\n",
    "test=gl.SFrame.read_csv('submission.txt', delimiter='\\t', verbose=False)\n",
    "test=test['DATE', 'ASS_ASSIGNMENT']"
   ]
  },
  {
   "cell_type": "code",
   "execution_count": null,
   "metadata": {
    "collapsed": true
   },
   "outputs": [],
   "source": [
    "print('Splitting column DATE into columns year, month, day, hour, minute.. in the Training set')      \n",
    "\n",
    "date_col=callsData['DATE'].apply(lambda x: dt.datetime.strptime(x, '%Y-%m-%d %H:%M:%S.000'))\n",
    "splitted_date_col=date_col.split_datetime(column_name_prefix='', limit=['year', 'month', 'day', 'hour', 'minute'])\n",
    "for col in ['year', 'month', 'day', 'hour', 'minute']:\n",
    "    callsData[col] = splitted_date_col[col]\n",
    "\n",
    "print('Splitting column DATE into columns year, month, day, hour, minute.. In the Test set')      \n",
    "date_col2=test['DATE'].apply(lambda x: dt.datetime.strptime(x, '%Y-%m-%d %H:%M:%S.000'))\n",
    "splitted_date_col=date_col2.split_datetime(column_name_prefix='', limit=['year', 'month', 'day', 'hour', 'minute'])\n",
    "for col in ['year', 'month', 'day', 'hour', 'minute']:\n",
    "    test[col] = splitted_date_col[col]"
   ]
  },
  {
   "cell_type": "code",
   "execution_count": null,
   "metadata": {
    "collapsed": true
   },
   "outputs": [],
   "source": [
    "calls = callsData.to_dataframe()"
   ]
  },
  {
   "cell_type": "code",
   "execution_count": null,
   "metadata": {
    "collapsed": true
   },
   "outputs": [],
   "source": [
    "testCalls = test.to_dataframe()"
   ]
  },
  {
   "cell_type": "code",
   "execution_count": null,
   "metadata": {
    "collapsed": true
   },
   "outputs": [],
   "source": [
    "gpby_cols = list(callsData[str].column_names())\n",
    "gpby_cols.append('WEEK_END')\n",
    "gpby_cols\n"
   ]
  },
  {
   "cell_type": "code",
   "execution_count": null,
   "metadata": {
    "collapsed": true
   },
   "outputs": [],
   "source": [
    "gpCalls = calls.groupby(['DATE','WEEK_END', 'DAY_WE_DS', 'ASS_ASSIGNMENT', 'TPER_TEAM']).sum().reset_index()"
   ]
  },
  {
   "cell_type": "code",
   "execution_count": null,
   "metadata": {
    "collapsed": true
   },
   "outputs": [],
   "source": [
    "np.sort(calls['CSPL_RECEIVED_CALLS'].unique())"
   ]
  },
  {
   "cell_type": "code",
   "execution_count": null,
   "metadata": {
    "collapsed": true
   },
   "outputs": [],
   "source": [
    "np.sort(gpCalls['CSPL_RECEIVED_CALLS'].unique())"
   ]
  },
  {
   "cell_type": "code",
   "execution_count": null,
   "metadata": {
    "collapsed": true
   },
   "outputs": [],
   "source": [
    "verif = gpCalls.groupby(['DATE', 'ASS_ASSIGNMENT']).count().reset_index()\n",
    "verif[verif['CSPL_RECEIVED_CALLS']>1]\n",
    "# should be DataFrame empty "
   ]
  },
  {
   "cell_type": "code",
   "execution_count": null,
   "metadata": {
    "collapsed": true
   },
   "outputs": [],
   "source": [
    "print \"Transform the categories : ASS_ASSIGNMENT to ID...\"\n",
    "\n",
    "ass=gpCalls['ASS_ASSIGNMENT'].unique()\n",
    "ass_numpy=ass #.to_numpy() -- add it if sframe\n",
    "gpCalls['cod_ASS_ASSIGNMENT']=gpCalls['ASS_ASSIGNMENT'].apply(lambda x: np.where(ass_numpy==x)[0][0])\n",
    "testCalls['cod_ASS_ASSIGNMENT']=testCalls['ASS_ASSIGNMENT'].apply(lambda x: np.where(ass_numpy==x)[0][0])\n"
   ]
  },
  {
   "cell_type": "code",
   "execution_count": null,
   "metadata": {
    "collapsed": true
   },
   "outputs": [],
   "source": [
    "print \"Adding colum, Day to Test set\"\n",
    "testCalls['DAY_WE_DS'] = date_col2.apply(lambda x: x.weekday())"
   ]
  },
  {
   "cell_type": "code",
   "execution_count": null,
   "metadata": {
    "collapsed": true
   },
   "outputs": [],
   "source": [
    "print 'Adding weekend column to Test set'\n",
    "testCalls['DAY_WE'] =np.where(testCalls['DAY_WE_DS']>= 5, 1,0)"
   ]
  },
  {
   "cell_type": "code",
   "execution_count": null,
   "metadata": {
    "collapsed": true
   },
   "outputs": [],
   "source": [
    "print('Changing day label column into numerical in the right order (Monday=0,Thuesday=1,...)..')   \n",
    "#update date col \n",
    "up_date_col=gpCalls['DATE'].apply(lambda x: dt.datetime.strptime(x, '%Y-%m-%d %H:%M:%S.000'))\n",
    "gpCalls['DAY_WE_DS'] = up_date_col.apply(lambda x: x.weekday())"
   ]
  },
  {
   "cell_type": "code",
   "execution_count": null,
   "metadata": {
    "collapsed": true
   },
   "outputs": [],
   "source": [
    "pickle.dump(gpCalls, open(\"gpCalles.obj\", \"wb\"))"
   ]
  },
  {
   "cell_type": "code",
   "execution_count": null,
   "metadata": {
    "collapsed": true
   },
   "outputs": [],
   "source": [
    "pickle.dump(testCalls, open(\"testCalls.obj\", \"wb\"))"
   ]
  },
  {
   "cell_type": "code",
   "execution_count": null,
   "metadata": {
    "collapsed": true
   },
   "outputs": [],
   "source": [
    "gpCalls.shape"
   ]
  },
  {
   "cell_type": "code",
   "execution_count": null,
   "metadata": {
    "collapsed": true
   },
   "outputs": [],
   "source": [
    "### adding columns"
   ]
  },
  {
   "cell_type": "code",
   "execution_count": null,
   "metadata": {
    "collapsed": true
   },
   "outputs": [],
   "source": [
    "# Niveau de pique par heure if not weekend\n",
    "wd_niv_0 = [0, 1, 2, 3, 4, 5, 6, 7, 21, 22, 23]\n",
    "wd_niv_1 = [8, 19, 20]\n",
    "wd_niv_2 = [12, 13,18 ]\n",
    "wd_niv_3 = [9, 14 ,15, 16 ,17]\n",
    "wd_niv_4 = [10, 11]\n",
    "\n",
    "# Niveau de pique par heure if weekend \n",
    "we_niv_0 = [0, 1, 2, 3, 4, 5, 6, 7, 8,  21, 22 ,23]\n",
    "we_niv_1 = [9 ,10 ,12 ,13 ,14 ,15, 16 ,17, 18, 19, 20 ]\n",
    "we_niv_2 = [11]\n",
    "\n"
   ]
  }
 ],
 "metadata": {
  "anaconda-cloud": {},
  "kernelspec": {
   "display_name": "Python [conda env:gl-env]",
   "language": "python",
   "name": "conda-env-gl-env-py"
  },
  "language_info": {
   "codemirror_mode": {
    "name": "ipython",
    "version": 2
   },
   "file_extension": ".py",
   "mimetype": "text/x-python",
   "name": "python",
   "nbconvert_exporter": "python",
   "pygments_lexer": "ipython2",
   "version": "2.7.11"
  }
 },
 "nbformat": 4,
 "nbformat_minor": 1
}
