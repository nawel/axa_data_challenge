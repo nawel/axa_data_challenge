{
 "cells": [
  {
   "cell_type": "code",
   "execution_count": 1,
   "metadata": {
    "collapsed": false
   },
   "outputs": [
    {
     "name": "stderr",
     "output_type": "stream",
     "text": [
      "[WARNING] graphlab.product_key: Unable to write current GraphLab Create license to /home/nawel/.graphlab/config. Ensure that this user account                         has write permission to /home/nawel/.graphlab/config to save the license for offline use.\n",
      "[INFO] graphlab.cython.cy_server: GraphLab Create v2.1 started. Logging: /tmp/graphlab_server_1482852630.log\n"
     ]
    },
    {
     "name": "stdout",
     "output_type": "stream",
     "text": [
      "This non-commercial license of GraphLab Create for academic use is assigned to nawel.medjkoune@u-psud.fr and will expire on December 27, 2017.\n"
     ]
    },
    {
     "name": "stderr",
     "output_type": "stream",
     "text": [
      "[WARNING] graphlab.deploy._session: Unable to create session in specified location: '/home/nawel/.graphlab/artifacts'. Using: '/var/tmp/graphlab-nawel/4819/tmp_session_7930b898-a3b3-4aba-83c5-bc547064c2da'\n"
     ]
    }
   ],
   "source": [
    "import graphlab as gl\n",
    "import datetime as dt"
   ]
  },
  {
   "cell_type": "code",
   "execution_count": 2,
   "metadata": {
    "collapsed": false
   },
   "outputs": [
    {
     "data": {
      "text/html": [
       "<pre>Finished parsing file /media/nawel/E4DC5C32DC5C016A/AIC/Big data machine learning/Project/train_2011_2012_2013.csv</pre>"
      ],
      "text/plain": [
       "Finished parsing file /media/nawel/E4DC5C32DC5C016A/AIC/Big data machine learning/Project/train_2011_2012_2013.csv"
      ]
     },
     "metadata": {},
     "output_type": "display_data"
    },
    {
     "data": {
      "text/html": [
       "<pre>Parsing completed. Parsed 100 lines in 3.22818 secs.</pre>"
      ],
      "text/plain": [
       "Parsing completed. Parsed 100 lines in 3.22818 secs."
      ]
     },
     "metadata": {},
     "output_type": "display_data"
    },
    {
     "name": "stdout",
     "output_type": "stream",
     "text": [
      "------------------------------------------------------\n",
      "Inferred types from first 100 line(s) of file as \n",
      "column_type_hints=[str,int,str,int,str,str,int,int,int,str,str,str,str,str,str,str,str,str,int,int,int,int,int,int,int,int,int,int,int,int,int,int,int,int,int,int,int,int,int,int,int,int,int,int,int,int,int,int,int,int,int,int,int,int,int,int,int,int,int,int,int,int,int,int,int,int,int,int,int,int,int,int,int,int,int,int,int,int,int,int,int,int,int,int,int,int]\n",
      "If parsing fails due to incorrect types, you can correct\n",
      "the inferred type list above and pass it to read_csv in\n",
      "the column_type_hints argument\n",
      "------------------------------------------------------\n"
     ]
    },
    {
     "data": {
      "text/html": [
       "<pre>Read 163398 lines. Lines per second: 44812.9</pre>"
      ],
      "text/plain": [
       "Read 163398 lines. Lines per second: 44812.9"
      ]
     },
     "metadata": {},
     "output_type": "display_data"
    },
    {
     "data": {
      "text/html": [
       "<pre>Read 642804 lines. Lines per second: 67882</pre>"
      ],
      "text/plain": [
       "Read 642804 lines. Lines per second: 67882"
      ]
     },
     "metadata": {},
     "output_type": "display_data"
    },
    {
     "data": {
      "text/html": [
       "<pre>Read 1118945 lines. Lines per second: 74049.4</pre>"
      ],
      "text/plain": [
       "Read 1118945 lines. Lines per second: 74049.4"
      ]
     },
     "metadata": {},
     "output_type": "display_data"
    },
    {
     "data": {
      "text/html": [
       "<pre>Read 1763123 lines. Lines per second: 83555.9</pre>"
      ],
      "text/plain": [
       "Read 1763123 lines. Lines per second: 83555.9"
      ]
     },
     "metadata": {},
     "output_type": "display_data"
    },
    {
     "data": {
      "text/html": [
       "<pre>Read 2418869 lines. Lines per second: 87596.4</pre>"
      ],
      "text/plain": [
       "Read 2418869 lines. Lines per second: 87596.4"
      ]
     },
     "metadata": {},
     "output_type": "display_data"
    },
    {
     "data": {
      "text/html": [
       "<pre>Read 3064982 lines. Lines per second: 90545.6</pre>"
      ],
      "text/plain": [
       "Read 3064982 lines. Lines per second: 90545.6"
      ]
     },
     "metadata": {},
     "output_type": "display_data"
    },
    {
     "data": {
      "text/html": [
       "<pre>Read 3560381 lines. Lines per second: 91398.5</pre>"
      ],
      "text/plain": [
       "Read 3560381 lines. Lines per second: 91398.5"
      ]
     },
     "metadata": {},
     "output_type": "display_data"
    },
    {
     "data": {
      "text/html": [
       "<pre>Read 4206133 lines. Lines per second: 92642</pre>"
      ],
      "text/plain": [
       "Read 4206133 lines. Lines per second: 92642"
      ]
     },
     "metadata": {},
     "output_type": "display_data"
    },
    {
     "data": {
      "text/html": [
       "<pre>Read 4864847 lines. Lines per second: 94012.8</pre>"
      ],
      "text/plain": [
       "Read 4864847 lines. Lines per second: 94012.8"
      ]
     },
     "metadata": {},
     "output_type": "display_data"
    },
    {
     "data": {
      "text/html": [
       "<pre>Read 5513700 lines. Lines per second: 94945.6</pre>"
      ],
      "text/plain": [
       "Read 5513700 lines. Lines per second: 94945.6"
      ]
     },
     "metadata": {},
     "output_type": "display_data"
    },
    {
     "data": {
      "text/html": [
       "<pre>Read 6173014 lines. Lines per second: 95895</pre>"
      ],
      "text/plain": [
       "Read 6173014 lines. Lines per second: 95895"
      ]
     },
     "metadata": {},
     "output_type": "display_data"
    },
    {
     "data": {
      "text/html": [
       "<pre>Read 6823039 lines. Lines per second: 95359.4</pre>"
      ],
      "text/plain": [
       "Read 6823039 lines. Lines per second: 95359.4"
      ]
     },
     "metadata": {},
     "output_type": "display_data"
    },
    {
     "data": {
      "text/html": [
       "<pre>Read 7154820 lines. Lines per second: 93184</pre>"
      ],
      "text/plain": [
       "Read 7154820 lines. Lines per second: 93184"
      ]
     },
     "metadata": {},
     "output_type": "display_data"
    },
    {
     "data": {
      "text/html": [
       "<pre>Read 7486626 lines. Lines per second: 90970.3</pre>"
      ],
      "text/plain": [
       "Read 7486626 lines. Lines per second: 90970.3"
      ]
     },
     "metadata": {},
     "output_type": "display_data"
    },
    {
     "data": {
      "text/html": [
       "<pre>Read 7811382 lines. Lines per second: 88201.3</pre>"
      ],
      "text/plain": [
       "Read 7811382 lines. Lines per second: 88201.3"
      ]
     },
     "metadata": {},
     "output_type": "display_data"
    },
    {
     "data": {
      "text/html": [
       "<pre>Read 8298943 lines. Lines per second: 88059.5</pre>"
      ],
      "text/plain": [
       "Read 8298943 lines. Lines per second: 88059.5"
      ]
     },
     "metadata": {},
     "output_type": "display_data"
    },
    {
     "data": {
      "text/html": [
       "<pre>Read 8791094 lines. Lines per second: 88313.5</pre>"
      ],
      "text/plain": [
       "Read 8791094 lines. Lines per second: 88313.5"
      ]
     },
     "metadata": {},
     "output_type": "display_data"
    },
    {
     "data": {
      "text/html": [
       "<pre>Read 9290581 lines. Lines per second: 88786</pre>"
      ],
      "text/plain": [
       "Read 9290581 lines. Lines per second: 88786"
      ]
     },
     "metadata": {},
     "output_type": "display_data"
    },
    {
     "data": {
      "text/html": [
       "<pre>Read 9780525 lines. Lines per second: 89200</pre>"
      ],
      "text/plain": [
       "Read 9780525 lines. Lines per second: 89200"
      ]
     },
     "metadata": {},
     "output_type": "display_data"
    },
    {
     "data": {
      "text/html": [
       "<pre>Read 10431918 lines. Lines per second: 89871.5</pre>"
      ],
      "text/plain": [
       "Read 10431918 lines. Lines per second: 89871.5"
      ]
     },
     "metadata": {},
     "output_type": "display_data"
    },
    {
     "data": {
      "text/html": [
       "<pre>Finished parsing file /media/nawel/E4DC5C32DC5C016A/AIC/Big data machine learning/Project/train_2011_2012_2013.csv</pre>"
      ],
      "text/plain": [
       "Finished parsing file /media/nawel/E4DC5C32DC5C016A/AIC/Big data machine learning/Project/train_2011_2012_2013.csv"
      ]
     },
     "metadata": {},
     "output_type": "display_data"
    },
    {
     "data": {
      "text/html": [
       "<pre>Parsing completed. Parsed 10878470 lines in 119.972 secs.</pre>"
      ],
      "text/plain": [
       "Parsing completed. Parsed 10878470 lines in 119.972 secs."
      ]
     },
     "metadata": {},
     "output_type": "display_data"
    }
   ],
   "source": [
    "data=gl.SFrame.read_csv('../../../train_2011_2012_2013.csv', delimiter=';')\n"
   ]
  },
  {
   "cell_type": "code",
   "execution_count": null,
   "metadata": {
    "collapsed": true
   },
   "outputs": [],
   "source": [
    "#2011-04-24 01:30:00.000\n",
    "data['DATE'] = data['DATE'].apply(lambda x: dt.datetime.strptime(x, '%Y-%m-%d %H:%M:%S.000'))"
   ]
  },
  {
   "cell_type": "code",
   "execution_count": null,
   "metadata": {
    "collapsed": false
   },
   "outputs": [],
   "source": [
    "data_ts = gl.TimeSeries(data, index=\"DATE\")\n"
   ]
  },
  {
   "cell_type": "code",
   "execution_count": null,
   "metadata": {
    "collapsed": true
   },
   "outputs": [],
   "source": [
    "start = dt.datetime(2011,1,1)\n",
    "end  = dt.datetime(2012,1,1)\n",
    "ts_2011 = data_ts.slice(start, end)"
   ]
  },
  {
   "cell_type": "code",
   "execution_count": 3,
   "metadata": {
    "collapsed": false
   },
   "outputs": [
    {
     "name": "stdout",
     "output_type": "stream",
     "text": [
      "PROGRESS: Creating a validation set from 5 percent of training data. This may take a while.\n",
      "          You can set ``validation_set=None`` to disable validation tracking.\n",
      "\n"
     ]
    },
    {
     "data": {
      "text/html": [
       "<pre>WARNING: Detected extremely low variance for feature(s) 'DAY_OFF' because all entries are nearly the same.\n",
       "Proceeding with model training using all features. If the model does not provide results of adequate quality, exclude the above mentioned feature(s) from the input dataset.</pre>"
      ],
      "text/plain": [
       "WARNING: Detected extremely low variance for feature(s) 'DAY_OFF' because all entries are nearly the same.\n",
       "Proceeding with model training using all features. If the model does not provide results of adequate quality, exclude the above mentioned feature(s) from the input dataset."
      ]
     },
     "metadata": {},
     "output_type": "display_data"
    },
    {
     "data": {
      "text/html": [
       "<pre>Boosted trees regression:</pre>"
      ],
      "text/plain": [
       "Boosted trees regression:"
      ]
     },
     "metadata": {},
     "output_type": "display_data"
    },
    {
     "data": {
      "text/html": [
       "<pre>--------------------------------------------------------</pre>"
      ],
      "text/plain": [
       "--------------------------------------------------------"
      ]
     },
     "metadata": {},
     "output_type": "display_data"
    },
    {
     "data": {
      "text/html": [
       "<pre>Number of examples          : 10334186</pre>"
      ],
      "text/plain": [
       "Number of examples          : 10334186"
      ]
     },
     "metadata": {},
     "output_type": "display_data"
    },
    {
     "data": {
      "text/html": [
       "<pre>Number of features          : 5</pre>"
      ],
      "text/plain": [
       "Number of features          : 5"
      ]
     },
     "metadata": {},
     "output_type": "display_data"
    },
    {
     "data": {
      "text/html": [
       "<pre>Number of unpacked features : 5</pre>"
      ],
      "text/plain": [
       "Number of unpacked features : 5"
      ]
     },
     "metadata": {},
     "output_type": "display_data"
    },
    {
     "data": {
      "text/html": [
       "<pre>+-----------+--------------+--------------------+----------------------+---------------+-----------------+</pre>"
      ],
      "text/plain": [
       "+-----------+--------------+--------------------+----------------------+---------------+-----------------+"
      ]
     },
     "metadata": {},
     "output_type": "display_data"
    },
    {
     "data": {
      "text/html": [
       "<pre>| Iteration | Elapsed Time | Training-max_error | Validation-max_error | Training-rmse | Validation-rmse |</pre>"
      ],
      "text/plain": [
       "| Iteration | Elapsed Time | Training-max_error | Validation-max_error | Training-rmse | Validation-rmse |"
      ]
     },
     "metadata": {},
     "output_type": "display_data"
    },
    {
     "data": {
      "text/html": [
       "<pre>+-----------+--------------+--------------------+----------------------+---------------+-----------------+</pre>"
      ],
      "text/plain": [
       "+-----------+--------------+--------------------+----------------------+---------------+-----------------+"
      ]
     },
     "metadata": {},
     "output_type": "display_data"
    },
    {
     "data": {
      "text/html": [
       "<pre>| 1         | 4.382227     | 818.974976         | 748.225586           | 4.663558      | 4.690198        |</pre>"
      ],
      "text/plain": [
       "| 1         | 4.382227     | 818.974976         | 748.225586           | 4.663558      | 4.690198        |"
      ]
     },
     "metadata": {},
     "output_type": "display_data"
    },
    {
     "data": {
      "text/html": [
       "<pre>| 2         | 8.322962     | 696.128723         | 730.518921           | 4.523370      | 4.555345        |</pre>"
      ],
      "text/plain": [
       "| 2         | 8.322962     | 696.128723         | 730.518921           | 4.523370      | 4.555345        |"
      ]
     },
     "metadata": {},
     "output_type": "display_data"
    },
    {
     "data": {
      "text/html": [
       "<pre>| 3         | 11.931275    | 623.244202         | 720.244202           | 4.450891      | 4.487901        |</pre>"
      ],
      "text/plain": [
       "| 3         | 11.931275    | 623.244202         | 720.244202           | 4.450891      | 4.487901        |"
      ]
     },
     "metadata": {},
     "output_type": "display_data"
    },
    {
     "data": {
      "text/html": [
       "<pre>| 4         | 16.044240    | 572.851990         | 707.785583           | 4.412553      | 4.453847        |</pre>"
      ],
      "text/plain": [
       "| 4         | 16.044240    | 572.851990         | 707.785583           | 4.412553      | 4.453847        |"
      ]
     },
     "metadata": {},
     "output_type": "display_data"
    },
    {
     "data": {
      "text/html": [
       "<pre>| 5         | 20.456941    | 499.293762         | 702.821777           | 4.392245      | 4.437154        |</pre>"
      ],
      "text/plain": [
       "| 5         | 20.456941    | 499.293762         | 702.821777           | 4.392245      | 4.437154        |"
      ]
     },
     "metadata": {},
     "output_type": "display_data"
    },
    {
     "data": {
      "text/html": [
       "<pre>| 6         | 24.498678    | 468.801849         | 699.382324           | 4.381062      | 4.429766        |</pre>"
      ],
      "text/plain": [
       "| 6         | 24.498678    | 468.801849         | 699.382324           | 4.381062      | 4.429766        |"
      ]
     },
     "metadata": {},
     "output_type": "display_data"
    },
    {
     "data": {
      "text/html": [
       "<pre>| 7         | 28.731266    | 444.502502         | 697.030273           | 4.374564      | 4.425839        |</pre>"
      ],
      "text/plain": [
       "| 7         | 28.731266    | 444.502502         | 697.030273           | 4.374564      | 4.425839        |"
      ]
     },
     "metadata": {},
     "output_type": "display_data"
    },
    {
     "data": {
      "text/html": [
       "<pre>| 8         | 33.227279    | 426.866364         | 695.446838           | 4.370176      | 4.424080        |</pre>"
      ],
      "text/plain": [
       "| 8         | 33.227279    | 426.866364         | 695.446838           | 4.370176      | 4.424080        |"
      ]
     },
     "metadata": {},
     "output_type": "display_data"
    },
    {
     "data": {
      "text/html": [
       "<pre>| 9         | 36.922302    | 419.031952         | 694.014526           | 4.367849      | 4.424621        |</pre>"
      ],
      "text/plain": [
       "| 9         | 36.922302    | 419.031952         | 694.014526           | 4.367849      | 4.424621        |"
      ]
     },
     "metadata": {},
     "output_type": "display_data"
    },
    {
     "data": {
      "text/html": [
       "<pre>| 10        | 41.114151    | 419.033752         | 690.135132           | 4.365370      | 4.424082        |</pre>"
      ],
      "text/plain": [
       "| 10        | 41.114151    | 419.033752         | 690.135132           | 4.365370      | 4.424082        |"
      ]
     },
     "metadata": {},
     "output_type": "display_data"
    },
    {
     "data": {
      "text/html": [
       "<pre>+-----------+--------------+--------------------+----------------------+---------------+-----------------+</pre>"
      ],
      "text/plain": [
       "+-----------+--------------+--------------------+----------------------+---------------+-----------------+"
      ]
     },
     "metadata": {},
     "output_type": "display_data"
    }
   ],
   "source": [
    "model = gl.boosted_trees_regression.create(data, target='CSPL_RECEIVED_CALLS', features=['DATE', 'DAY_OFF', 'WEEK_END', 'DAY_WE_DS', 'ASS_ASSIGNMENT'])\n"
   ]
  },
  {
   "cell_type": "code",
   "execution_count": 4,
   "metadata": {
    "collapsed": false
   },
   "outputs": [
    {
     "data": {
      "text/html": [
       "<pre>Finished parsing file /media/nawel/E4DC5C32DC5C016A/AIC/Big data machine learning/Project/submission.txt</pre>"
      ],
      "text/plain": [
       "Finished parsing file /media/nawel/E4DC5C32DC5C016A/AIC/Big data machine learning/Project/submission.txt"
      ]
     },
     "metadata": {},
     "output_type": "display_data"
    },
    {
     "data": {
      "text/html": [
       "<pre>Parsing completed. Parsed 100 lines in 0.278843 secs.</pre>"
      ],
      "text/plain": [
       "Parsing completed. Parsed 100 lines in 0.278843 secs."
      ]
     },
     "metadata": {},
     "output_type": "display_data"
    },
    {
     "name": "stdout",
     "output_type": "stream",
     "text": [
      "------------------------------------------------------\n",
      "Inferred types from first 100 line(s) of file as \n",
      "column_type_hints=[str,str,int]\n",
      "If parsing fails due to incorrect types, you can correct\n",
      "the inferred type list above and pass it to read_csv in\n",
      "the column_type_hints argument\n",
      "------------------------------------------------------\n"
     ]
    },
    {
     "data": {
      "text/html": [
       "<pre>Finished parsing file /media/nawel/E4DC5C32DC5C016A/AIC/Big data machine learning/Project/submission.txt</pre>"
      ],
      "text/plain": [
       "Finished parsing file /media/nawel/E4DC5C32DC5C016A/AIC/Big data machine learning/Project/submission.txt"
      ]
     },
     "metadata": {},
     "output_type": "display_data"
    },
    {
     "data": {
      "text/html": [
       "<pre>Parsing completed. Parsed 82909 lines in 0.095204 secs.</pre>"
      ],
      "text/plain": [
       "Parsing completed. Parsed 82909 lines in 0.095204 secs."
      ]
     },
     "metadata": {},
     "output_type": "display_data"
    }
   ],
   "source": [
    "test=gl.SFrame.read_csv('../../../submission.txt', delimiter='\\t')"
   ]
  },
  {
   "cell_type": "code",
   "execution_count": 5,
   "metadata": {
    "collapsed": false
   },
   "outputs": [
    {
     "data": {
      "text/html": [
       "<div style=\"max-height:1000px;max-width:1500px;overflow:auto;\"><table frame=\"box\" rules=\"cols\">\n",
       "    <tr>\n",
       "        <th style=\"padding-left: 1em; padding-right: 1em; text-align: center\">DATE</th>\n",
       "        <th style=\"padding-left: 1em; padding-right: 1em; text-align: center\">ASS_ASSIGNMENT</th>\n",
       "    </tr>\n",
       "    <tr>\n",
       "        <td style=\"padding-left: 1em; padding-right: 1em; text-align: center; vertical-align: top\">2012-12-28 00:00:00.000</td>\n",
       "        <td style=\"padding-left: 1em; padding-right: 1em; text-align: center; vertical-align: top\">CMS</td>\n",
       "    </tr>\n",
       "    <tr>\n",
       "        <td style=\"padding-left: 1em; padding-right: 1em; text-align: center; vertical-align: top\">2012-12-28 00:00:00.000</td>\n",
       "        <td style=\"padding-left: 1em; padding-right: 1em; text-align: center; vertical-align: top\">Crises</td>\n",
       "    </tr>\n",
       "    <tr>\n",
       "        <td style=\"padding-left: 1em; padding-right: 1em; text-align: center; vertical-align: top\">2012-12-28 00:00:00.000</td>\n",
       "        <td style=\"padding-left: 1em; padding-right: 1em; text-align: center; vertical-align: top\">Domicile</td>\n",
       "    </tr>\n",
       "    <tr>\n",
       "        <td style=\"padding-left: 1em; padding-right: 1em; text-align: center; vertical-align: top\">2012-12-28 00:00:00.000</td>\n",
       "        <td style=\"padding-left: 1em; padding-right: 1em; text-align: center; vertical-align: top\">Gestion</td>\n",
       "    </tr>\n",
       "    <tr>\n",
       "        <td style=\"padding-left: 1em; padding-right: 1em; text-align: center; vertical-align: top\">2012-12-28 00:00:00.000</td>\n",
       "        <td style=\"padding-left: 1em; padding-right: 1em; text-align: center; vertical-align: top\">Gestion - Accueil<br>Telephonique ...</td>\n",
       "    </tr>\n",
       "    <tr>\n",
       "        <td style=\"padding-left: 1em; padding-right: 1em; text-align: center; vertical-align: top\">2012-12-28 00:00:00.000</td>\n",
       "        <td style=\"padding-left: 1em; padding-right: 1em; text-align: center; vertical-align: top\">Gestion Assurances</td>\n",
       "    </tr>\n",
       "    <tr>\n",
       "        <td style=\"padding-left: 1em; padding-right: 1em; text-align: center; vertical-align: top\">2012-12-28 00:00:00.000</td>\n",
       "        <td style=\"padding-left: 1em; padding-right: 1em; text-align: center; vertical-align: top\">Gestion Relation<br>Clienteles ...</td>\n",
       "    </tr>\n",
       "    <tr>\n",
       "        <td style=\"padding-left: 1em; padding-right: 1em; text-align: center; vertical-align: top\">2012-12-28 00:00:00.000</td>\n",
       "        <td style=\"padding-left: 1em; padding-right: 1em; text-align: center; vertical-align: top\">Gestion Renault</td>\n",
       "    </tr>\n",
       "    <tr>\n",
       "        <td style=\"padding-left: 1em; padding-right: 1em; text-align: center; vertical-align: top\">2012-12-28 00:00:00.000</td>\n",
       "        <td style=\"padding-left: 1em; padding-right: 1em; text-align: center; vertical-align: top\">Japon</td>\n",
       "    </tr>\n",
       "    <tr>\n",
       "        <td style=\"padding-left: 1em; padding-right: 1em; text-align: center; vertical-align: top\">2012-12-28 00:00:00.000</td>\n",
       "        <td style=\"padding-left: 1em; padding-right: 1em; text-align: center; vertical-align: top\">Médical</td>\n",
       "    </tr>\n",
       "</table>\n",
       "[82909 rows x 2 columns]<br/>Note: Only the head of the SFrame is printed.<br/>You can use print_rows(num_rows=m, num_columns=n) to print more rows and columns.\n",
       "</div>"
      ],
      "text/plain": [
       "Columns:\n",
       "\tDATE\tstr\n",
       "\tASS_ASSIGNMENT\tstr\n",
       "\n",
       "Rows: 82909\n",
       "\n",
       "Data:\n",
       "+-------------------------+--------------------------------+\n",
       "|           DATE          |         ASS_ASSIGNMENT         |\n",
       "+-------------------------+--------------------------------+\n",
       "| 2012-12-28 00:00:00.000 |              CMS               |\n",
       "| 2012-12-28 00:00:00.000 |             Crises             |\n",
       "| 2012-12-28 00:00:00.000 |            Domicile            |\n",
       "| 2012-12-28 00:00:00.000 |            Gestion             |\n",
       "| 2012-12-28 00:00:00.000 | Gestion - Accueil Telephonique |\n",
       "| 2012-12-28 00:00:00.000 |       Gestion Assurances       |\n",
       "| 2012-12-28 00:00:00.000 |  Gestion Relation Clienteles   |\n",
       "| 2012-12-28 00:00:00.000 |        Gestion Renault         |\n",
       "| 2012-12-28 00:00:00.000 |             Japon              |\n",
       "| 2012-12-28 00:00:00.000 |            Médical             |\n",
       "+-------------------------+--------------------------------+\n",
       "[82909 rows x 2 columns]\n",
       "Note: Only the head of the SFrame is printed.\n",
       "You can use print_rows(num_rows=m, num_columns=n) to print more rows and columns."
      ]
     },
     "execution_count": 5,
     "metadata": {},
     "output_type": "execute_result"
    }
   ],
   "source": [
    "test=test['DATE' , 'ASS_ASSIGNMENT']\n",
    "#test['DATE'] = test['DATE'].apply(lambda x: dt.datetime.strptime(x, '%Y-%m-%d %H:%M:%S.000'))\n",
    "test"
   ]
  },
  {
   "cell_type": "code",
   "execution_count": null,
   "metadata": {
    "collapsed": true
   },
   "outputs": [],
   "source": [
    "model = gl.boosted_trees_regression.create(data, target='CSPL_RECEIVED_CALLS', features=['DAY_OFF', 'WEEK_END', 'DAY_WE_DS', 'ASS_ASSIGNMENT'], max_iterations=2, max_depth =  3)"
   ]
  },
  {
   "cell_type": "code",
   "execution_count": null,
   "metadata": {
    "collapsed": true
   },
   "outputs": [],
   "source": [
    "labels = data['CSPL_RECEIVED_CALLS'].unique()"
   ]
  },
  {
   "cell_type": "code",
   "execution_count": null,
   "metadata": {
    "collapsed": false
   },
   "outputs": [],
   "source": []
  },
  {
   "cell_type": "code",
   "execution_count": 6,
   "metadata": {
    "collapsed": false
   },
   "outputs": [],
   "source": [
    "predictions=model.predict(test)\n",
    "#predictions=predictions.apply(lambda x: int(x))"
   ]
  },
  {
   "cell_type": "code",
   "execution_count": null,
   "metadata": {
    "collapsed": false
   },
   "outputs": [],
   "source": [
    "import random\n",
    "listOfNumbers=[]\n",
    "for x in range (0,82908):\n",
    "    listOfNumbers.append(random.randint(0, 1000))\n"
   ]
  },
  {
   "cell_type": "code",
   "execution_count": 9,
   "metadata": {
    "collapsed": false
   },
   "outputs": [],
   "source": [
    "def make_submission(prediction, filename='submission.txt'):\n",
    "    with open(filename, 'w') as f:\n",
    "        f.write('DATE\\tASS_ASSIGNMENT\\tprediction\\n')\n",
    "        submission_strings = test['DATE'] + '\\t' + test['ASS_ASSIGNMENT'] + '\\t'+ prediction.astype(str)\n",
    "        for row in submission_strings:\n",
    "            f.write(row + '\\n')\n",
    "\n",
    "make_submission(predictions, 'submission.txt')\n",
    "\n",
    "\n"
   ]
  }
 ],
 "metadata": {
  "kernelspec": {
   "display_name": "Python [Root]",
   "language": "python",
   "name": "Python [Root]"
  },
  "language_info": {
   "codemirror_mode": {
    "name": "ipython",
    "version": 2
   },
   "file_extension": ".py",
   "mimetype": "text/x-python",
   "name": "python",
   "nbconvert_exporter": "python",
   "pygments_lexer": "ipython2",
   "version": "2.7.12"
  }
 },
 "nbformat": 4,
 "nbformat_minor": 1
}
