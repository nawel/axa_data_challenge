{
 "cells": [
  {
   "cell_type": "code",
   "execution_count": 53,
   "metadata": {
    "collapsed": false
   },
   "outputs": [
    {
     "data": {
      "text/html": [
       "<div>\n",
       "<table border=\"1\" class=\"dataframe\">\n",
       "  <thead>\n",
       "    <tr style=\"text-align: right;\">\n",
       "      <th></th>\n",
       "      <th>Venezuela</th>\n",
       "      <th>N/A</th>\n",
       "      <th>President</th>\n",
       "      <th>10/7/12</th>\n",
       "      <th>Hugo Rafael Chavez Frias</th>\n",
       "      <th>Hugo Chávez</th>\n",
       "      <th>Hugo Chávez.1</th>\n",
       "      <th>Hugo Chavez</th>\n",
       "      <th>Hugo Chávez Frías</th>\n",
       "      <th>Hugo Chavez.1</th>\n",
       "      <th>Hugo Chávez.2</th>\n",
       "    </tr>\n",
       "  </thead>\n",
       "  <tbody>\n",
       "  </tbody>\n",
       "</table>\n",
       "</div>"
      ],
      "text/plain": [
       "Empty DataFrame\n",
       "Columns: [Venezuela, N/A, President, 10/7/12, Hugo Rafael Chavez Frias, Hugo Chávez, Hugo Chávez.1, Hugo Chavez, Hugo Chávez Frías, Hugo Chavez.1, Hugo Chávez.2]\n",
       "Index: []"
      ]
     },
     "execution_count": 53,
     "metadata": {},
     "output_type": "execute_result"
    }
   ],
   "source": [
    "from StringIO import StringIO\n",
    "import pandas as pd\n",
    "\n",
    "a = ['Venezuela', 'N/A', 'President', '10/7/12', 'Hugo Rafael Chavez Frias', 'Hugo Ch\\xc3\\xa1vez', 'Hugo Ch\\xc3\\xa1vez', 'Hugo Chavez', 'Hugo Ch\\xc3\\xa1vez Fr\\xc3\\xadas', 'Hugo Chavez', 'Hugo Ch\\xc3\\xa1vez']\n",
    "\n",
    "pd.read_csv(StringIO('\\t'.join(a)), delimiter='\\t')"
   ]
  },
  {
   "cell_type": "code",
   "execution_count": 54,
   "metadata": {
    "collapsed": false
   },
   "outputs": [],
   "source": [
    "import pandas\n",
    "from datetime import datetime, timedelta\n",
    "from sklearn import linear_model\n",
    "from numpy import array\n",
    "\n",
    "#load the data, only the col in \"usecols\"\n",
    "data = pd.read_csv('/Users/ozad/Desktop/AXA/train_2011_2012_2013.csv', parse_dates = ['DATE'], sep = ';',  engine='c', usecols=['DATE','DAY_OFF', 'WEEK_END', 'DAY_WE_DS', 'ASS_ASSIGNMENT', 'CSPL_RECEIVED_CALLS'])"
   ]
  },
  {
   "cell_type": "code",
   "execution_count": 55,
   "metadata": {
    "collapsed": false
   },
   "outputs": [],
   "source": [
    "n = data.shape[0]\n",
    "data = data.sort_values(by=['DATE'])\n",
    "labels = data['CSPL_RECEIVED_CALLS'].unique()\n",
    "\n"
   ]
  },
  {
   "cell_type": "code",
   "execution_count": 56,
   "metadata": {
    "collapsed": false
   },
   "outputs": [
    {
     "name": "stdout",
     "output_type": "stream",
     "text": [
      "[  0   1   2   3   4   5   6   7   8   9  10  11  12  13  14  15  16  17\n",
      "  18  19  20  21  22  23  24  25  26  27  28  29  30  31  32  33  34  35\n",
      "  36  37  38  39  40  41  42  43  44  45  46  47  48  49  50  51  52  53\n",
      "  54  55  56  57  58  59  60  61  62  63  64  65  66  67  68  69  70  71\n",
      "  72  73  74  75  76  77  78  79  80  81  82  83  84  85  86  87  88  89\n",
      "  90  91  92  93  94  95  96  97  98  99 100 101 102 103 104 105 106 107\n",
      " 108 109 110 111 112 113 114 115 116 117 118 119 120 121 122 123 124 125\n",
      " 126 127 128 129 130 131 132 133 134 135 136 137 138 139 140 141 142 143\n",
      " 144 145 146 147 148 149 150 151 152 153 154 155 156 157 158 159 160 161\n",
      " 162 163 164 165 166 167 168 169 170 171 172 173 174 175 176 177 179 180\n",
      " 182 184 185 186 187 188 189 190 191 192 193 196 198 199 201 203 204 206\n",
      " 207 208 209 211 212 215 217 218 227 230 231 244 251 253 258 263 268 269\n",
      " 276 278 280 285 286 292 293 299 302 308 311 312 314 316 319 322 341 355\n",
      " 363 364 365 367 375 381 382 396 397 399 403 406 415 417 419 438 445 446\n",
      " 451 454 458 463 466 469 487 491 495 496 500 508 522 534 647 677 721 774\n",
      " 918 964]\n",
      "272\n"
     ]
    }
   ],
   "source": [
    "#print data\n",
    "import numpy as np\n",
    "print np.sort(labels)\n",
    "print len(labels)"
   ]
  },
  {
   "cell_type": "code",
   "execution_count": 57,
   "metadata": {
    "collapsed": true
   },
   "outputs": [],
   "source": [
    "file = open('/Users/ozad/Desktop/AXA/submission.txt','r')\n",
    "lines = [line.rstrip('\\n') for line in file]\n",
    "lines = lines[1:]\n",
    "\n",
    "submission = []"
   ]
  },
  {
   "cell_type": "code",
   "execution_count": 58,
   "metadata": {
    "collapsed": false
   },
   "outputs": [],
   "source": [
    "\n",
    "\n",
    "\n",
    "for line in lines:\n",
    "    tokens = line.split()\n",
    "    date1 = tokens[0].split(\"-\")\n",
    "    date2 = tokens[1].split(\":\")\n",
    "    date = datetime(int(date1[0]),int(date1[1]),int(date1[2]),int(date2[0]),int(date2[1]))\n",
    "    ass_assignment = ' '.join(tokens[2:-1])\n",
    "    submission.append((date, ass_assignment))\n",
    "\n"
   ]
  },
  {
   "cell_type": "code",
   "execution_count": 59,
   "metadata": {
    "collapsed": true
   },
   "outputs": [],
   "source": [
    "m = len(submission)\n",
    "delta = timedelta(minutes=30)\n",
    "pos1, pos2 = 0, 0\n",
    "ass_num = {}\n",
    "cont_ass = 0"
   ]
  },
  {
   "cell_type": "code",
   "execution_count": null,
   "metadata": {
    "collapsed": false
   },
   "outputs": [
    {
     "name": "stdout",
     "output_type": "stream",
     "text": [
      "Téléphonie\n"
     ]
    }
   ],
   "source": [
    "print data['ASS_ASSIGNMENT'][0]"
   ]
  },
  {
   "cell_type": "code",
   "execution_count": null,
   "metadata": {
    "collapsed": false
   },
   "outputs": [],
   "source": [
    "for i in range(0,n):\n",
    "    ass = data['ASS_ASSIGNMENT'][i]\n",
    "    if ass not in ass_num:\n",
    "        ass_num[ass] = cont_ass\n",
    "        cont_ass += 1\n",
    "\n"
   ]
  },
  {
   "cell_type": "code",
   "execution_count": null,
   "metadata": {
    "collapsed": false
   },
   "outputs": [],
   "source": [
    "print len(ass_num)"
   ]
  },
  {
   "cell_type": "code",
   "execution_count": null,
   "metadata": {
    "collapsed": false
   },
   "outputs": [],
   "source": [
    "print ass_num\n"
   ]
  },
  {
   "cell_type": "code",
   "execution_count": null,
   "metadata": {
    "collapsed": false
   },
   "outputs": [],
   "source": [
    "print type (data['DATE'][0])\n",
    "print data['DATE'][0]"
   ]
  },
  {
   "cell_type": "code",
   "execution_count": null,
   "metadata": {
    "collapsed": true
   },
   "outputs": [],
   "source": [
    "clf = linear_model.SGDClassifier()\n",
    "col_date = data['DATE']\n",
    "col_assignment = data['ASS_ASSIGNMENT']\n",
    "col_received = data['CSPL_RECEIVED_CALLS']"
   ]
  },
  {
   "cell_type": "code",
   "execution_count": null,
   "metadata": {
    "collapsed": false
   },
   "outputs": [],
   "source": [
    "print submission[0][0]\n",
    "print submission[0]\n",
    "#print col_assignment\n",
    "print m"
   ]
  },
  {
   "cell_type": "code",
   "execution_count": null,
   "metadata": {
    "collapsed": false
   },
   "outputs": [],
   "source": [
    "#import codecs\n",
    "\n",
    "#codecs.open(\"file\", \"r\",encoding=\"utf-8\")\n",
    "\n",
    "X = []\n",
    "y = []\n",
    "d = submission[pos2][0]\n",
    "d_str = pd.tslib.Timestamp(\"%d-%02d-%02d %02d:%02d:00.000\" % (d.year, d.month, d.day, d.hour, d.minute))\n",
    "\n",
    "print type(d_str)\n",
    "print type(col_date[pos1])\n",
    "while pos1 < n and col_date[pos1] <= d_str:\n",
    "        tmp=col_assignment[pos1].decode(\"utf-8\")\n",
    "        ass_assignment = ass_num[tmp.encode(\"utf-8\")]\n",
    "        X.append([ass_assignment])\n",
    "        y.append([ col_received[pos1] ])\n",
    "        pos1 += 1"
   ]
  },
  {
   "cell_type": "code",
   "execution_count": null,
   "metadata": {
    "collapsed": false
   },
   "outputs": [],
   "source": [
    "print len(X)\n",
    "#print X\n",
    "print d_str\n",
    "print pos1\n",
    "print len(y)\n",
    "#print y"
   ]
  },
  {
   "cell_type": "code",
   "execution_count": null,
   "metadata": {
    "collapsed": false
   },
   "outputs": [],
   "source": [
    "####### fit\n",
    "if len(X) > 0:\n",
    "    X = array(X)\n",
    "    y = array(y).ravel()\n",
    "    clf.partial_fit(X,y,classes=labels)\n",
    "\n",
    "\n",
    "\n",
    "\n"
   ]
  },
  {
   "cell_type": "code",
   "execution_count": null,
   "metadata": {
    "collapsed": true
   },
   "outputs": [],
   "source": [
    "\n",
    "X_test = []\n",
    "pos3=0\n",
    "#pos3 = pos2\n",
    "\n",
    "while pos3 < m and submission[pos3][0] == d:\n",
    "    ass_assignment = submission[pos3][1]\n",
    "    X_test.append([ ass_num[ass_assignment] ])\n",
    "    pos3 += 1"
   ]
  },
  {
   "cell_type": "code",
   "execution_count": null,
   "metadata": {
    "collapsed": false
   },
   "outputs": [],
   "source": [
    "print len(y)\n",
    "print y\n",
    "print len(X)\n",
    "print len(X_test)"
   ]
  },
  {
   "cell_type": "code",
   "execution_count": null,
   "metadata": {
    "collapsed": false
   },
   "outputs": [],
   "source": [
    "######## predict y\n",
    "if len(X_test) > 0:\n",
    "    X_test = array(X_test)\n",
    "    y_pred = clf.predict(X_test)\n",
    "\n",
    "for i in range(pos2,pos3):\n",
    "    print \"%d-%d-%d %d:%d:00.000\\t%s\\t%d\" % (submission[i][0].year,\n",
    "        submission[i][0].month, submission[i][0].day,\n",
    "        submission[i][0].hour, submission[i][0].minute, submission[i][1],\n",
    "        y_pred[i - pos2])\n",
    "\n"
   ]
  },
  {
   "cell_type": "code",
   "execution_count": null,
   "metadata": {
    "collapsed": false
   },
   "outputs": [],
   "source": [
    "print y"
   ]
  },
  {
   "cell_type": "code",
   "execution_count": null,
   "metadata": {
    "collapsed": true
   },
   "outputs": [],
   "source": [
    "\n",
    " \n",
    "while pos2 < m:\n",
    "    X = []\n",
    "    y = []\n",
    "    d = submission[pos2][0]\n",
    "    d_str = \"%d-%02d-%02d %02d:%02d:00.000\" % (d.year, d.month, d.day, d.hour, d.minute)\n",
    "\n",
    "    \n",
    "    ####### upload the data train\n",
    "    while pos1 < n and col_date[pos1] <= d_str:\n",
    "        ass_assignment = ass_num[ col_assignment[pos1] ]\n",
    "        X.append([ass_assignment])\n",
    "        y.append([ col_received[pos1] ])\n",
    "        pos1 += 1\n",
    "\n",
    "    ####### fit\n",
    "    if len(X) > 0:\n",
    "        X = array(X)\n",
    "        y = array(y).ravel()\n",
    "        clf.partial_fit(X,y,classes=labels)\n",
    "\n",
    "    ###### end of trainning\n",
    "    \n",
    "    \n",
    "    \n",
    "    \n",
    "    \n",
    "    ######## upload the data for validation , per bloc of 30 min\n",
    "    \n",
    "    X = []\n",
    "    pos3 = pos2\n",
    "    \n",
    "    while pos3 < m and submission[pos3][0] == d:\n",
    "        ass_assignment = submission[pos3][1]\n",
    "        X.append([ ass_num[ass_assignment] ])\n",
    "        pos3 += 1\n",
    "\n",
    "\n",
    "    \n",
    "    ######## predict y, per 30 min\n",
    "    if len(X) > 0:\n",
    "        X = array(X)\n",
    "        y = clf.predict(X)\n",
    "\n",
    "    for i in range(pos2,pos3):\n",
    "        print \"%d-%d-%d %d:%d:00.000\\t%s\\t%d\" % (submission[i][0].year,\n",
    "            submission[i][0].month, submission[i][0].day,\n",
    "            submission[i][0].hour, submission[i][0].minute, submission[i][1],\n",
    "            y[i - pos2])\n",
    "\n",
    "    pos2 = pos3\n"
   ]
  },
  {
   "cell_type": "code",
   "execution_count": null,
   "metadata": {
    "collapsed": true
   },
   "outputs": [],
   "source": []
  }
 ],
 "metadata": {
  "anaconda-cloud": {},
  "kernelspec": {
   "display_name": "Python [conda root]",
   "language": "python",
   "name": "conda-root-py"
  },
  "language_info": {
   "codemirror_mode": {
    "name": "ipython",
    "version": 2
   },
   "file_extension": ".py",
   "mimetype": "text/x-python",
   "name": "python",
   "nbconvert_exporter": "python",
   "pygments_lexer": "ipython2",
   "version": "2.7.12"
  }
 },
 "nbformat": 4,
 "nbformat_minor": 1
}
